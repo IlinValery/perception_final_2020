{
 "cells": [
  {
   "cell_type": "code",
   "execution_count": 8,
   "metadata": {},
   "outputs": [
    {
     "ename": "ImportError",
     "evalue": "/home/valeryilin/workdir/skoltech/term3/perceptionRobotics/final_pr_team2/venv/lib/python3.7/site-packages/octomap.cpython-37m-x86_64-linux-gnu.so: undefined symbol: _ZN7octomap14AbstractOcTree4readERKSs",
     "output_type": "error",
     "traceback": [
      "\u001b[0;31m---------------------------------------------------------------------------\u001b[0m",
      "\u001b[0;31mImportError\u001b[0m                               Traceback (most recent call last)",
      "\u001b[0;32m<ipython-input-8-befc0d38777e>\u001b[0m in \u001b[0;36m<module>\u001b[0;34m\u001b[0m\n\u001b[0;32m----> 1\u001b[0;31m \u001b[0;32mimport\u001b[0m \u001b[0moctomap\u001b[0m\u001b[0;34m\u001b[0m\u001b[0;34m\u001b[0m\u001b[0m\n\u001b[0m",
      "\u001b[0;31mImportError\u001b[0m: /home/valeryilin/workdir/skoltech/term3/perceptionRobotics/final_pr_team2/venv/lib/python3.7/site-packages/octomap.cpython-37m-x86_64-linux-gnu.so: undefined symbol: _ZN7octomap14AbstractOcTree4readERKSs"
     ]
    }
   ],
   "source": [
    "import octomap"
   ]
  },
  {
   "cell_type": "code",
   "execution_count": 3,
   "metadata": {},
   "outputs": [
    {
     "name": "stdout",
     "output_type": "stream",
     "text": [
      "Collecting cython\n",
      "  Using cached https://files.pythonhosted.org/packages/17/49/5a2834a373417130b77d43b39a5a9a117d528e8d63ecb439555afef8b33d/Cython-0.29.15-cp37-cp37m-manylinux1_x86_64.whl\n",
      "Installing collected packages: cython\n",
      "Successfully installed cython-0.29.15\n"
     ]
    }
   ],
   "source": [
    "!pip install cython"
   ]
  },
  {
   "cell_type": "markdown",
   "metadata": {},
   "source": [
    "2.5 убитых часа на запуск либы, спасибо не нужно)"
   ]
  },
  {
   "cell_type": "code",
   "execution_count": 1,
   "metadata": {},
   "outputs": [
    {
     "name": "stdout",
     "output_type": "stream",
     "text": [
      "attrs==19.3.0\n",
      "backcall==0.1.0\n",
      "bleach==3.1.3\n",
      "cycler==0.10.0\n",
      "Cython==0.29.15\n",
      "decorator==4.4.2\n",
      "defusedxml==0.6.0\n",
      "entrypoints==0.3\n",
      "importlib-metadata==1.5.0\n",
      "ipykernel==5.2.0\n",
      "ipython==7.13.0\n",
      "ipython-genutils==0.2.0\n",
      "ipywidgets==7.5.1\n",
      "jedi==0.16.0\n",
      "Jinja2==2.11.1\n",
      "json5==0.9.3\n",
      "jsonschema==3.2.0\n",
      "jupyter-client==6.1.0\n",
      "jupyter-core==4.6.3\n",
      "jupyterlab==2.0.1\n",
      "jupyterlab-server==1.0.7\n",
      "kiwisolver==1.1.0\n",
      "MarkupSafe==1.1.1\n",
      "matplotlib==3.2.1\n",
      "mistune==0.8.4\n",
      "nbconvert==5.6.1\n",
      "nbformat==5.0.4\n",
      "notebook==6.0.3\n",
      "numpy==1.18.2\n",
      "octomap-python==1.8.0.post1\n",
      "open3d==0.9.0.0\n",
      "opencv-contrib-python==3.4.2.17\n",
      "opencv-python==3.4.2.17\n",
      "packaging==20.3\n",
      "pandocfilters==1.4.2\n",
      "parso==0.6.2\n",
      "pexpect==4.8.0\n",
      "pickleshare==0.7.5\n",
      "pkg-resources==0.0.0\n",
      "pptk==0.1.0\n",
      "prometheus-client==0.7.1\n",
      "prompt-toolkit==3.0.4\n",
      "ptyprocess==0.6.0\n",
      "Pygments==2.6.1\n",
      "pyparsing==2.4.6\n",
      "pyrealsense2==2.33.1.1388\n",
      "pyrsistent==0.15.7\n",
      "python-dateutil==2.8.1\n",
      "pyzmq==19.0.0\n",
      "scikit-build==0.10.0\n",
      "scipy==1.4.1\n",
      "Send2Trash==1.5.0\n",
      "six==1.14.0\n",
      "terminado==0.8.3\n",
      "testpath==0.4.4\n",
      "tornado==6.0.4\n",
      "traitlets==4.3.3\n",
      "wcwidth==0.1.9\n",
      "webencodings==0.5.1\n",
      "widgetsnbextension==3.5.1\n",
      "zipp==3.1.0\n"
     ]
    }
   ],
   "source": [
    "!pip freeze"
   ]
  },
  {
   "cell_type": "code",
   "execution_count": null,
   "metadata": {},
   "outputs": [],
   "source": []
  }
 ],
 "metadata": {
  "kernelspec": {
   "display_name": "Python 3",
   "language": "python",
   "name": "python3"
  },
  "language_info": {
   "codemirror_mode": {
    "name": "ipython",
    "version": 3
   },
   "file_extension": ".py",
   "mimetype": "text/x-python",
   "name": "python",
   "nbconvert_exporter": "python",
   "pygments_lexer": "ipython3",
   "version": "3.7.5"
  }
 },
 "nbformat": 4,
 "nbformat_minor": 4
}
