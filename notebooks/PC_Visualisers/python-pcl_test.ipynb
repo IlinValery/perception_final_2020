{
 "cells": [
  {
   "cell_type": "code",
   "execution_count": 26,
   "metadata": {},
   "outputs": [
    {
     "name": "stdout",
     "output_type": "stream",
     "text": [
      "--2020-03-24 16:58:41--  https://github.com/strawlab/python-pcl/archive/v0.3.0rc1.tar.gz\n",
      "Resolving github.com (github.com)... 140.82.118.4\n",
      "Connecting to github.com (github.com)|140.82.118.4|:443... connected.\n",
      "HTTP request sent, awaiting response... 302 Found\n",
      "Location: https://codeload.github.com/strawlab/python-pcl/tar.gz/v0.3.0rc1 [following]\n",
      "--2020-03-24 16:58:41--  https://codeload.github.com/strawlab/python-pcl/tar.gz/v0.3.0rc1\n",
      "Resolving codeload.github.com (codeload.github.com)... 140.82.112.9\n",
      "Connecting to codeload.github.com (codeload.github.com)|140.82.112.9|:443... connected.\n",
      "HTTP request sent, awaiting response... 200 OK\n",
      "Length: unspecified [application/x-gzip]\n",
      "Saving to: ‘v0.3.0rc1.tar.gz.1’\n",
      "\n",
      "v0.3.0rc1.tar.gz.1      [            <=>     ]  19,10M  1,63MB/s    in 9,8s    \n",
      "\n",
      "2020-03-24 16:58:52 (1,95 MB/s) - ‘v0.3.0rc1.tar.gz.1’ saved [20032904]\n",
      "\n"
     ]
    }
   ],
   "source": [
    "!wget https://github.com/strawlab/python-pcl/archive/v0.3.0rc1.tar.gz\n",
    "    "
   ]
  },
  {
   "cell_type": "code",
   "execution_count": 29,
   "metadata": {},
   "outputs": [
    {
     "name": "stdout",
     "output_type": "stream",
     "text": [
      "0.ply  pcl-test.py\t__pycache__\t       python-pcl_test.ipynb\n",
      "1.ply  pptk_test.ipynb\tpython-pcl-lib.tar.gz  v0.3.0rc1.tar.gz\n"
     ]
    }
   ],
   "source": [
    "!ls"
   ]
  },
  {
   "cell_type": "code",
   "execution_count": 30,
   "metadata": {},
   "outputs": [],
   "source": [
    "!tar zxf v0.3.0rc1.tar.gz"
   ]
  },
  {
   "cell_type": "code",
   "execution_count": null,
   "metadata": {},
   "outputs": [],
   "source": [
    "!cd python-pcl-0.3.0rc1\n",
    "!python setup.py install"
   ]
  },
  {
   "cell_type": "markdown",
   "metadata": {},
   "source": [
    "# Все очень плохо с этой либой :(\n",
    "Пояснение: требует libpcl_keypoints.so.1.7 этот файл, а в систему на ubuntu 18 можно установить только версию 1.8 этой либы\n"
   ]
  },
  {
   "cell_type": "code",
   "execution_count": 14,
   "metadata": {},
   "outputs": [
    {
     "name": "stdout",
     "output_type": "stream",
     "text": [
      "Traceback (most recent call last):\n",
      "  File \"pcl-test.py\", line 5, in <module>\n",
      "    import pcl\n",
      "  File \"/home/valeryilin/workdir/skoltech/term3/perceptionRobotics/final_pr_team2/venv/lib/python3.7/site-packages/pcl/__init__.py\", line 2, in <module>\n",
      "    from ._pcl import *\n",
      "ImportError: libpcl_keypoints.so.1.7: cannot open shared object file: No such file or directory\n"
     ]
    }
   ],
   "source": [
    "!python pcl-test.py"
   ]
  },
  {
   "cell_type": "code",
   "execution_count": 3,
   "metadata": {},
   "outputs": [
    {
     "name": "stdout",
     "output_type": "stream",
     "text": [
      "0.ply  1.ply  pcl.py  pptk_test.ipynb  python-pcl_test.ipynb\n"
     ]
    }
   ],
   "source": [
    "!ls"
   ]
  },
  {
   "cell_type": "code",
   "execution_count": 17,
   "metadata": {},
   "outputs": [
    {
     "ename": "ImportError",
     "evalue": "libpcl_keypoints.so.1.7: cannot open shared object file: No such file or directory",
     "output_type": "error",
     "traceback": [
      "\u001b[0;31m---------------------------------------------------------------------------\u001b[0m",
      "\u001b[0;31mImportError\u001b[0m                               Traceback (most recent call last)",
      "\u001b[0;32m<ipython-input-17-1e2e5cb12ae8>\u001b[0m in \u001b[0;36m<module>\u001b[0;34m\u001b[0m\n\u001b[0;32m----> 1\u001b[0;31m \u001b[0;32mimport\u001b[0m \u001b[0mpcl\u001b[0m\u001b[0;34m\u001b[0m\u001b[0;34m\u001b[0m\u001b[0m\n\u001b[0m",
      "\u001b[0;32m~/workdir/skoltech/term3/perceptionRobotics/final_pr_team2/venv/lib/python3.7/site-packages/pcl/__init__.py\u001b[0m in \u001b[0;36m<module>\u001b[0;34m\u001b[0m\n\u001b[1;32m      1\u001b[0m \u001b[0;31m# XXX do a more specific import!\u001b[0m\u001b[0;34m\u001b[0m\u001b[0;34m\u001b[0m\u001b[0;34m\u001b[0m\u001b[0m\n\u001b[0;32m----> 2\u001b[0;31m \u001b[0;32mfrom\u001b[0m \u001b[0;34m.\u001b[0m\u001b[0m_pcl\u001b[0m \u001b[0;32mimport\u001b[0m \u001b[0;34m*\u001b[0m\u001b[0;34m\u001b[0m\u001b[0;34m\u001b[0m\u001b[0m\n\u001b[0m\u001b[1;32m      3\u001b[0m \u001b[0;31m# from .pcl_visualization import *\u001b[0m\u001b[0;34m\u001b[0m\u001b[0;34m\u001b[0m\u001b[0;34m\u001b[0m\u001b[0m\n\u001b[1;32m      4\u001b[0m \u001b[0;31m# from .pcl_grabber import *\u001b[0m\u001b[0;34m\u001b[0m\u001b[0;34m\u001b[0m\u001b[0;34m\u001b[0m\u001b[0m\n\u001b[1;32m      5\u001b[0m \u001b[0;34m\u001b[0m\u001b[0m\n",
      "\u001b[0;31mImportError\u001b[0m: libpcl_keypoints.so.1.7: cannot open shared object file: No such file or directory"
     ]
    }
   ],
   "source": [
    "import pcl"
   ]
  }
 ],
 "metadata": {
  "kernelspec": {
   "display_name": "Python 3",
   "language": "python",
   "name": "python3"
  },
  "language_info": {
   "codemirror_mode": {
    "name": "ipython",
    "version": 3
   },
   "file_extension": ".py",
   "mimetype": "text/x-python",
   "name": "python",
   "nbconvert_exporter": "python",
   "pygments_lexer": "ipython3",
   "version": "3.7.5"
  }
 },
 "nbformat": 4,
 "nbformat_minor": 4
}
