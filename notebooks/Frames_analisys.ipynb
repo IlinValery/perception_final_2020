{
 "cells": [
  {
   "cell_type": "markdown",
   "metadata": {},
   "source": [
    "Initial preparation by Valery Ilin"
   ]
  },
  {
   "cell_type": "markdown",
   "metadata": {},
   "source": [
    "Modified by: "
   ]
  },
  {
   "cell_type": "code",
   "execution_count": 103,
   "metadata": {},
   "outputs": [],
   "source": [
    "import pyrealsense2 as rs\n",
    "import open3d as o3d\n",
    "import matplotlib.pyplot as plt\n",
    "import numpy as np\n",
    "from scipy.spatial.transform import Rotation as R"
   ]
  },
  {
   "cell_type": "markdown",
   "metadata": {},
   "source": [
    "# Collecting frames for next dev"
   ]
  },
  {
   "cell_type": "code",
   "execution_count": 90,
   "metadata": {},
   "outputs": [],
   "source": [
    "count_of_frames = 6\n",
    "frames_between_frames_D435 = 32"
   ]
  },
  {
   "cell_type": "markdown",
   "metadata": {},
   "source": [
    "# Iitial configs"
   ]
  },
  {
   "cell_type": "code",
   "execution_count": 91,
   "metadata": {},
   "outputs": [],
   "source": [
    "# data filenames\n",
    "d435_filename = '../data/D435.bag'\n",
    "t265_filename = '../data/T265.bag'"
   ]
  },
  {
   "cell_type": "code",
   "execution_count": 92,
   "metadata": {},
   "outputs": [
    {
     "data": {
      "text/plain": [
       "<pyrealsense2.pyrealsense2.pipeline_profile at 0x7f54faa21f70>"
      ]
     },
     "execution_count": 92,
     "metadata": {},
     "output_type": "execute_result"
    }
   ],
   "source": [
    "# config fo D435\n",
    "cfg_d435 = rs.config()\n",
    "cfg_d435.enable_device_from_file(d435_filename)\n",
    "cfg_d435.enable_stream(rs.stream.depth, 848, 480, rs.format.z16, 30)\n",
    "pipe_d435 = rs.pipeline()\n",
    "pipe_d435.start(cfg_d435)\n"
   ]
  },
  {
   "cell_type": "code",
   "execution_count": 93,
   "metadata": {},
   "outputs": [
    {
     "data": {
      "text/plain": [
       "<pyrealsense2.pyrealsense2.pipeline_profile at 0x7f54f97fc530>"
      ]
     },
     "execution_count": 93,
     "metadata": {},
     "output_type": "execute_result"
    }
   ],
   "source": [
    "# config fo T265\n",
    "cfg_t265 = rs.config()\n",
    "cfg_t265.enable_device_from_file(t265_filename)\n",
    "cfg_t265.enable_stream(rs.stream.pose)\n",
    "pipe_t265 = rs.pipeline()\n",
    "pipe_t265.start(cfg_t265)"
   ]
  },
  {
   "cell_type": "markdown",
   "metadata": {},
   "source": [
    "## Collecting frames"
   ]
  },
  {
   "cell_type": "code",
   "execution_count": 94,
   "metadata": {},
   "outputs": [],
   "source": [
    "# rewind\n",
    "for i in range(frames_between_frames_D435*count_of_frames*2):\n",
    "    pipe_d435.wait_for_frames()"
   ]
  },
  {
   "cell_type": "code",
   "execution_count": 95,
   "metadata": {},
   "outputs": [],
   "source": [
    "d435_frames = []\n",
    "while len(d435_frames) != count_of_frames:\n",
    "    for i in range(frames_between_frames_D435):\n",
    "        depth_frame = pipe_d435.wait_for_frames().get_depth_frame()\n",
    "    d435_frames.append(depth_frame)"
   ]
  },
  {
   "cell_type": "code",
   "execution_count": 96,
   "metadata": {},
   "outputs": [],
   "source": [
    "pose_frame = None\n",
    "pose_frame_time = -1\n",
    "thresh = 7\n",
    "t265_frames = []\n",
    "t265_frames_temp = []\n",
    "n = 0\n",
    "\n",
    "for i, depth_frame in enumerate(d435_frames):\n",
    "    depth_frame_time = depth_frame.get_timestamp()\n",
    "    while abs(depth_frame_time-pose_frame_time) > thresh:\n",
    "        pose_frame = pipe_t265.wait_for_frames().get_pose_frame()\n",
    "        pose_frame_time = pose_frame.get_timestamp()\n",
    "    while abs(depth_frame_time-pose_frame_time) <= thresh:\n",
    "        pose_frame = pipe_t265.wait_for_frames().get_pose_frame()\n",
    "        t265_frames_temp.append(pose_frame)\n",
    "        pose_frame_time = pose_frame.get_timestamp()\n",
    "\n",
    "    min_int_index = 0\n",
    "    min_interval = thresh * 2\n",
    "    for ind_pose, temp_pose in enumerate(t265_frames_temp):\n",
    "        if abs(depth_frame_time-temp_pose.get_timestamp())<min_interval:\n",
    "            min_interval = abs(depth_frame_time-temp_pose.get_timestamp())\n",
    "            min_int_index = ind_pose\n",
    "    t265_frames.append(t265_frames_temp[min_int_index])\n",
    "    "
   ]
  },
  {
   "cell_type": "markdown",
   "metadata": {},
   "source": [
    "## Test for frames"
   ]
  },
  {
   "cell_type": "code",
   "execution_count": 128,
   "metadata": {},
   "outputs": [],
   "source": [
    "def count_diff_frames(frames):\n",
    "    prev_frame = None\n",
    "    for i, frame in enumerate(frames):\n",
    "        if prev_frame is not None:\n",
    "            print(\"Difference bw {0} and {1} frames is {2:.4f} ms\".format(i, i-1, frame.get_timestamp()-prev_frame.get_timestamp()))\n",
    "        prev_frame = frame"
   ]
  },
  {
   "cell_type": "code",
   "execution_count": 98,
   "metadata": {},
   "outputs": [],
   "source": [
    "def get_diff_sensors(frames1, frames2):\n",
    "    if len(frames1) != len(frames2):\n",
    "        return\n",
    "    else:\n",
    "        for i in range(len(frames1)):\n",
    "            print(\"Difference bw frames1[{0}] and frames2[{0}] frames is {1:.4f} ms\".format(i, frames1[i].get_timestamp()-frames2[i].get_timestamp()))\n",
    "        "
   ]
  },
  {
   "cell_type": "code",
   "execution_count": 99,
   "metadata": {},
   "outputs": [
    {
     "name": "stdout",
     "output_type": "stream",
     "text": [
      "Difference bw 1 and 0 frames is 1067.3257 ms\n",
      "Difference bw 2 and 1 frames is 1067.5569 ms\n",
      "Difference bw 3 and 2 frames is 1067.1072 ms\n",
      "Difference bw 4 and 3 frames is 1067.3467 ms\n",
      "Difference bw 5 and 4 frames is 1067.3037 ms\n",
      "Difference bw 1 and 0 frames is 1064.9038 ms\n",
      "Difference bw 2 and 1 frames is 1069.7830 ms\n",
      "Difference bw 3 and 2 frames is 1064.8892 ms\n",
      "Difference bw 4 and 3 frames is 1069.8120 ms\n",
      "Difference bw 5 and 4 frames is 1064.8193 ms\n"
     ]
    }
   ],
   "source": [
    "count_diff_frames(d435_frames)\n",
    "count_diff_frames(t265_frames)"
   ]
  },
  {
   "cell_type": "code",
   "execution_count": 100,
   "metadata": {},
   "outputs": [
    {
     "name": "stdout",
     "output_type": "stream",
     "text": [
      "Difference bw frames1[0] and frames2[0] frames is -2.1409 ms\n",
      "Difference bw frames1[1] and frames2[1] frames is 0.2810 ms\n",
      "Difference bw frames1[2] and frames2[2] frames is -1.9451 ms\n",
      "Difference bw frames1[3] and frames2[3] frames is 0.2729 ms\n",
      "Difference bw frames1[4] and frames2[4] frames is -2.1924 ms\n",
      "Difference bw frames1[5] and frames2[5] frames is 0.2920 ms\n"
     ]
    }
   ],
   "source": [
    "get_diff_sensors(d435_frames, t265_frames)"
   ]
  },
  {
   "cell_type": "markdown",
   "metadata": {},
   "source": [
    "# Analysis"
   ]
  },
  {
   "cell_type": "markdown",
   "metadata": {},
   "source": [
    "## Helpers"
   ]
  },
  {
   "cell_type": "code",
   "execution_count": 129,
   "metadata": {},
   "outputs": [],
   "source": [
    "import time\n",
    "from functools import wraps\n",
    "\n",
    "def timing(f):\n",
    "    @wraps(f)\n",
    "    def wrap(*args, **kw):\n",
    "        time_start = time.time()\n",
    "        result = f(*args, **kw)\n",
    "        time_end = time.time()\n",
    "        print('----------func:%r took: %2.4f sec' % (f.__name__, time_end-time_start))\n",
    "        return result\n",
    "    return wrap"
   ]
  },
  {
   "cell_type": "code",
   "execution_count": 130,
   "metadata": {},
   "outputs": [],
   "source": [
    "tm_T265toD435 = np.array([[0.999968402, -0.006753626, -0.004188075, -0.015890727],\n",
    "                          [-0.006685408, -0.999848172, 0.016093893, 0.028273059],\n",
    "                          [-0.004296131, -0.016065384, -0.999861654, -0.009375589],\n",
    "                          [0, 0, 0, 1]])"
   ]
  },
  {
   "cell_type": "code",
   "execution_count": 131,
   "metadata": {},
   "outputs": [
    {
     "data": {
      "text/plain": [
       "<matplotlib.legend.Legend at 0x7f54fb33c810>"
      ]
     },
     "execution_count": 131,
     "metadata": {},
     "output_type": "execute_result"
    },
    {
     "data": {
      "image/png": "[encoded data removed]",
      "text/plain": [
       "<Figure size 720x720 with 1 Axes>"
      ]
     },
     "metadata": {
      "needs_background": "light"
     },
     "output_type": "display_data"
    }
   ],
   "source": [
    "# Graph plot\n",
    "t265 = np.load('../logs/points_trajectory_T265.npy') #np array coords\n",
    "d435 = np.load('../logs/points_trajectory_D435.npy')/1 # np array coords\n",
    "# before = 10\n",
    "before = d435.shape[0]\n",
    "fig = plt.figure(figsize=(10,10))\n",
    "ax = fig.add_subplot(111, projection='3d')\n",
    "ax.set_xlabel('X')\n",
    "ax.set_ylabel('Y')\n",
    "ax.set_zlabel('Z')\n",
    "ax.plot(t265[:before, 0], t265[:before, 1], t265[:before, 2], label='t265')\n",
    "ax.plot(d435[:before, 0], d435[:before, 1], d435[:before, 2], label='d435')\n",
    "ax.view_init(elev=22, azim=80)\n",
    "plt.legend()"
   ]
  },
  {
   "cell_type": "markdown",
   "metadata": {},
   "source": [
    "## Functions"
   ]
  },
  {
   "cell_type": "code",
   "execution_count": 132,
   "metadata": {},
   "outputs": [],
   "source": [
    "def get_transformation(pose):\n",
    "    data = pose.get_pose_data()\n",
    "    data_rot = [float(i.strip('xyzw: ')) for i in str(data.rotation).split(', ')]\n",
    "    r = R.from_quat(data_rot)\n",
    "    rotation = np.array(r.as_matrix())\n",
    "    translation = np.array([float(i.strip('xyzw: ')) for i in str(data.translation).split(', ')])[np.newaxis].T\n",
    "    T = np.hstack((rotation, translation))\n",
    "    T = np.vstack((T, np.array([0, 0, 0, 1])))\n",
    "    return T"
   ]
  },
  {
   "cell_type": "code",
   "execution_count": 133,
   "metadata": {},
   "outputs": [
    {
     "data": {
      "text/plain": [
       "array([[ 0.95426662, -0.26579744,  0.13684636, -1.08901   ],\n",
       "       [ 0.12872294,  0.77844951,  0.61436697,  0.395562  ],\n",
       "       [-0.26982515, -0.56865463,  0.77706261, -0.911533  ],\n",
       "       [ 0.        ,  0.        ,  0.        ,  1.        ]])"
      ]
     },
     "execution_count": 133,
     "metadata": {},
     "output_type": "execute_result"
    }
   ],
   "source": [
    "get_transformation(t265_frames[0])"
   ]
  },
  {
   "cell_type": "code",
   "execution_count": 134,
   "metadata": {},
   "outputs": [],
   "source": [
    "def apply_transformation(transformation, points):\n",
    "    \"\"\"\n",
    "\n",
    "    :param transformation: 4x4 np.array\n",
    "    :param points: Nx3 np.array\n",
    "    :return: transformed Nx3 np.array\n",
    "    \"\"\"\n",
    "    if transformation is None or points is None:\n",
    "        return None\n",
    "    else:\n",
    "        coordinates = np.hstack((points, np.ones((points.shape[0], 1))))\n",
    "        return (transformation @ coordinates.T).T[:, :-1]"
   ]
  },
  {
   "cell_type": "code",
   "execution_count": 135,
   "metadata": {},
   "outputs": [],
   "source": [
    "def get_coordinates(depth_frame, make_sampling=True, koef = 2**2):\n",
    "    \"\"\"\n",
    "     TODO\n",
    "    :param make_sampling:\n",
    "    :return:\n",
    "    \"\"\"\n",
    "    pc = rs.pointcloud()\n",
    "    if make_sampling:\n",
    "        decimate = rs.decimation_filter()\n",
    "        decimate.set_option(rs.option.filter_magnitude, koef)\n",
    "        depth_frame = decimate.process(depth_frame)\n",
    "\n",
    "        points = pc.calculate(depth_frame).as_points()\n",
    "    else:\n",
    "        points = pc.calculate(depth_frame).as_points()\n",
    "\n",
    "    coordinates = np.ndarray(buffer=points.get_vertices(), dtype=np.float32, shape=(points.size(), 3))\n",
    "    coordinates = coordinates[coordinates[:, 2] != 0]\n",
    "\n",
    "    coordinates = apply_transformation(tm_T265toD435, coordinates)\n",
    "    return coordinates\n"
   ]
  },
  {
   "cell_type": "code",
   "execution_count": 125,
   "metadata": {},
   "outputs": [
    {
     "data": {
      "text/plain": [
       "(24127, 3)"
      ]
     },
     "execution_count": 125,
     "metadata": {},
     "output_type": "execute_result"
    }
   ],
   "source": [
    "get_coordinates(d435_frames[0]).shape"
   ]
  },
  {
   "cell_type": "code",
   "execution_count": 126,
   "metadata": {},
   "outputs": [],
   "source": [
    "def convert_to_pcl(points):\n",
    "    \"\"\"\n",
    "        TODO\n",
    "    :param points: Nx3\n",
    "    :return:\n",
    "    \"\"\"\n",
    "    if points is None:\n",
    "        return None\n",
    "    else:\n",
    "        return o3d.geometry.PointCloud(o3d.utility.Vector3dVector(points))"
   ]
  },
  {
   "cell_type": "code",
   "execution_count": 127,
   "metadata": {},
   "outputs": [
    {
     "data": {
      "text/plain": [
       "geometry::PointCloud with 24127 points."
      ]
     },
     "execution_count": 127,
     "metadata": {},
     "output_type": "execute_result"
    }
   ],
   "source": [
    "convert_to_pcl(get_coordinates(d435_frames[0]))"
   ]
  },
  {
   "cell_type": "code",
   "execution_count": null,
   "metadata": {},
   "outputs": [],
   "source": [
    "# TODO this 100%\n",
    "\n",
    "def get_transformation(self, max_point_pair_dist=0.2, init_guess=np.eye(4)):\n",
    "    old_point_cloud = self.apply_transformation(self.prev_tm, self.point_cloud)\n",
    "    old_pcl = self.convert_to_pcl(old_point_cloud) # n-1\n",
    "    self.point_cloud = self.apply_transformation(self.prev_tm, self.get_coordinates())\n",
    "    if old_pcl is None:\n",
    "        self.prev_tm = init_guess\n",
    "        print(\"\\n\\n\\n{}\\n\\n\\n\".format(init_guess))\n",
    "        return None\n",
    "\n",
    "    new_pcl = self.convert_to_pcl(self.point_cloud) # n\n",
    "\n",
    "    tr_mx = o3d.registration.registration_icp(old_pcl, new_pcl, max_point_pair_dist,\n",
    "                                              self.prev_tm, o3d.registration.TransformationEstimationPointToPoint())\\\n",
    "        .transformation\n",
    "    self.prev_tm = tr_mx\n",
    "    return tr_mx"
   ]
  }
 ],
 "metadata": {
  "kernelspec": {
   "display_name": "Python 3",
   "language": "python",
   "name": "python3"
  },
  "language_info": {
   "codemirror_mode": {
    "name": "ipython",
    "version": 3
   },
   "file_extension": ".py",
   "mimetype": "text/x-python",
   "name": "python",
   "nbconvert_exporter": "python",
   "pygments_lexer": "ipython3",
   "version": "3.7.5"
  }
 },
 "nbformat": 4,
 "nbformat_minor": 4
}
