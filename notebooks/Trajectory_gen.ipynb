{
 "cells": [
  {
   "cell_type": "markdown",
   "metadata": {},
   "source": [
    "by Stepan Perminov"
   ]
  },
  {
   "cell_type": "code",
   "execution_count": null,
   "metadata": {
    "pycharm": {
     "is_executing": false
    }
   },
   "outputs": [],
   "source": [
    "import pyrealsense2 as rs\n",
    "import cv2\n",
    "import numpy as np\n",
    "import time\n",
    "from IPython.display import clear_output\n",
    "from scipy.spatial.transform import Rotation as R\n",
    "import matplotlib.pyplot as plt"
   ]
  },
  {
   "cell_type": "code",
   "execution_count": 4,
   "metadata": {
    "collapsed": false,
    "jupyter": {
     "outputs_hidden": false
    },
    "pycharm": {
     "is_executing": false,
     "name": "#%%\n"
    }
   },
   "outputs": [
    {
     "name": "stdout",
     "output_type": "stream",
     "text": [
      "The end\n"
     ]
    }
   ],
   "source": [
    "pipe = rs.pipeline()\n",
    "cfg = rs.config()\n",
    "cfg.enable_device_from_file(\"../data/435.bag\")\n",
    "cfg.enable_stream(rs.stream.depth, 848, 480, rs.format.z16, 30)\n",
    "cfg.enable_stream(rs.stream.color, 848, 480, rs.format.bgr8, 30)\n",
    "pipe.start(cfg)\n",
    "\n",
    "cv2.namedWindow(\"Depth Stream\", cv2.WINDOW_AUTOSIZE)\n",
    "colorizer = rs.colorizer()\n",
    "\n",
    "# Streaming loop\n",
    "while True:\n",
    "    # Get frameset of depth\n",
    "    frames = pipe.wait_for_frames()\n",
    "\n",
    "    # Get depth frame\n",
    "    depth_frame = frames.get_depth_frame()\n",
    "\n",
    "    # Colorize depth frame to jet colormap\n",
    "    depth_color_frame = colorizer.colorize(depth_frame)\n",
    "\n",
    "    # Convert depth_frame to numpy array to render image in opencv\n",
    "    depth_color_image = np.asanyarray(depth_color_frame.get_data())\n",
    "\n",
    "    # Render image in opencv window\n",
    "    cv2.imshow(\"Depth Stream\", depth_color_image)\n",
    "    key = cv2.waitKey(1)\n",
    "    # if pressed escape exit program\n",
    "    if key == 27:\n",
    "        cv2.destroyAllWindows()\n",
    "        break\n",
    "\n",
    "print('The end')"
   ]
  },
  {
   "cell_type": "code",
   "execution_count": 5,
   "metadata": {
    "collapsed": false,
    "jupyter": {
     "outputs_hidden": false
    },
    "pycharm": {
     "is_executing": false,
     "name": "#%%\n"
    }
   },
   "outputs": [],
   "source": [
    "## Read 265 BAG file for poses"
   ]
  },
  {
   "cell_type": "code",
   "execution_count": 6,
   "metadata": {
    "collapsed": false,
    "jupyter": {
     "outputs_hidden": false
    },
    "pycharm": {
     "is_executing": false,
     "name": "#%%\n"
    }
   },
   "outputs": [],
   "source": [
    "def plot_pose(frames=[], poses=[], show_t=True, show_coord=True, show_pose=True, t_names=['$\\mathbf{t}$']):\n",
    "    \"\"\"Plotting poses in frames\n",
    "\n",
    "    Args:\n",
    "        frames (list): frames to plot in addition to original frame.\n",
    "        poses (list): poses to plot in the original frame.\n",
    "        \n",
    "        show_t (bool): depict t-vector name\n",
    "        show_coord (bool): depict pose coordinates\n",
    "\n",
    "    Returns:\n",
    "        None.\n",
    "    \"\"\"\n",
    "    def get_xyzuvctt(T):\n",
    "        t = T[:3, 3:4].flatten(); t_ = t/(np.linalg.norm(t)+1e-5)*5\n",
    "        R = T[:3,:3]\n",
    "        (x, y, z), (u, v, c) = np.repeat(t.reshape(3,1),3, axis=1), R\n",
    "        return x, y, z, u, v, c, t, t_\n",
    " \n",
    "    \n",
    "    fig = plt.figure(figsize=(15,15))\n",
    "    ax = fig.add_subplot(111, projection='3d')\n",
    "    lngth = 3\n",
    "\n",
    "    # fig appearance\n",
    "    ax.view_init(elev=22, azim=32)\n",
    "    #ax.set_aspect('equal')\n",
    "    ax.view_init(elev=22, azim=20)\n",
    "    ax.set_xlabel('X')\n",
    "    ax.set_ylabel('Y')\n",
    "    ax.set_zlabel('Z')\n",
    "    ax.axis('off'); #ax.axis('equal')\n",
    "    \n",
    "    \n",
    "    #origin and coordinate axes (coordinate frame)\n",
    "    xl = 'x'; yl = 'y'; zl = 'z'; ol = 'O'\n",
    "    x, y, z, u, v, c, t, t_ = get_xyzuvctt(np.eye(4))\n",
    "        \n",
    "    ax.scatter(t_[0], t_[1], t_[2], s=80, c='k')\n",
    "    ax.quiver(x, y, z, u, v, c, color='k', length=lngth, arrow_length_ratio=0.2, linewidth=0.5)\n",
    "    ax.text(0,-0.5,-0.1,ol); \n",
    "    ax.text(lngth*1.2,0,0,xl); ax.text(0,lngth*1.2,0,yl); ax.text(0,0,lngth*1.2,zl)\n",
    "    # aid to have initial minimum dimensions of plot\n",
    "    ax.scatter(4,4,4, alpha=0)\n",
    "    \n",
    "    for frame in frames:\n",
    "        x, y, z, u, v, c, t, t_ = get_xyzuvctt(frame)\n",
    "        ax.scatter(t_[0], t_[1], t_[2], s=80, c='k')\n",
    "        ax.quiver(\n",
    "            x, y, z, u, v, c, color='k', length=lngth, arrow_length_ratio=0.2, linewidth=0.5)\n",
    "        xl += '\\''; yl += '\\''; zl += '\\''; ol += '\\''\n",
    "        ax.text(t_[0],t_[1]-0.5,t_[2]-0.1,ol); \n",
    "        frame = frame @ np.diag([lngth*1.2, lngth*1.2, lngth*1.2, 1])\n",
    "        ax.text(frame[:3,:3][0][0]+t_[0],frame[:3,:3][1][0]+t_[1], frame[:3,:3][2][0]+t_[2],xl);\n",
    "        ax.text(frame[:3,:3][0][1]+t_[0],frame[:3,:3][1][1]+t_[1], frame[:3,:3][2][1]+t_[2],yl);\n",
    "        ax.text(frame[:3,:3][0][2]+t_[0],frame[:3,:3][1][2]+t_[1], frame[:3,:3][2][2]+t_[2],zl);\n",
    "    \n",
    "    prev_t = [0, 0, 0]\n",
    "    for i, pose in enumerate(poses):\n",
    "        # given frame\n",
    "        x, y, z, u, v, c, t, t_ = get_xyzuvctt(pose)\n",
    "        ax.plot([prev_t[0], t[0]], [prev_t[1], t[1]], [prev_t[2], t[2]], color='k', linewidth=2)\n",
    "        prev_t = t\n",
    "  \n",
    "    if show_pose:\n",
    "            ax.quiver(x, y, z, u, v, c, arrow_length_ratio=0, color=['r','g','b'], linestyle='-', linewidth=4)\n",
    "    if show_coord:\n",
    "            ax.text(t[0], t[1], t[2]-0.7, '('+str(t[0])+','+str(t[1])+','+str(t[2])+')')\n",
    "    \n",
    "    plt.show()\n",
    "    fig.savefig('Path.png')"
   ]
  },
  {
   "cell_type": "code",
   "execution_count": 8,
   "metadata": {
    "collapsed": false,
    "jupyter": {
     "outputs_hidden": false
    },
    "pycharm": {
     "is_executing": false,
     "name": "#%%\n"
    }
   },
   "outputs": [
    {
     "data": {
      "image/png": "[encoded data removed]",
      "text/plain": [
       "<Figure size 1080x1080 with 1 Axes>"
      ]
     },
     "metadata": {
      "needs_background": "light"
     },
     "output_type": "display_data"
    }
   ],
   "source": [
    "# Setup:\n",
    "cfg = rs.config()\n",
    "cfg.enable_device_from_file(\"../data/265.bag\")\n",
    "cfg.enable_stream(rs.stream.pose)\n",
    "pipe = rs.pipeline()\n",
    "pipe.start(cfg)\n",
    "\n",
    "poses = []\n",
    "\n",
    "for _ in range(50):\n",
    "    time.sleep(0.01)\n",
    "    clear_output(wait=True)\n",
    "    \n",
    "    frames = pipe.wait_for_frames()\n",
    "    pose = frames.get_pose_frame()\n",
    "    if pose:\n",
    "        data = pose.get_pose_data()\n",
    "        data_rot = [float(i.strip('xyzw: ')) for i in str(data.rotation).split(', ')]\n",
    "        r = R.from_quat(data_rot)\n",
    "        rotation = np.array(r.as_matrix())\n",
    "        translation = np.array([float(i.strip('xyzw: ')) for i in str(data.translation).split(', ')])[np.newaxis].T\n",
    "        T = np.hstack((rotation, translation))\n",
    "        T = np.vstack((T, np.array([0, 0, 0, 1])))\n",
    "        poses.append(T)\n",
    "        plot_pose(poses=poses)\n",
    "        \n",
    "pipe.stop()"
   ]
  },
  {
   "cell_type": "code",
   "execution_count": 4,
   "metadata": {
    "collapsed": false,
    "jupyter": {
     "outputs_hidden": false
    },
    "pycharm": {
     "is_executing": false,
     "name": "#%%\n"
    }
   },
   "outputs": [],
   "source": []
  },
  {
   "cell_type": "code",
   "execution_count": null,
   "metadata": {
    "collapsed": false,
    "jupyter": {
     "outputs_hidden": false
    },
    "pycharm": {
     "name": "#%%\n"
    }
   },
   "outputs": [],
   "source": [
    "\n"
   ]
  }
 ],
 "metadata": {
  "kernelspec": {
   "display_name": "Python 3",
   "language": "python",
   "name": "python3"
  },
  "language_info": {
   "codemirror_mode": {
    "name": "ipython",
    "version": 3
   },
   "file_extension": ".py",
   "mimetype": "text/x-python",
   "name": "python",
   "nbconvert_exporter": "python",
   "pygments_lexer": "ipython3",
   "version": "3.7.5"
  },
  "pycharm": {
   "stem_cell": {
    "cell_type": "raw",
    "metadata": {
     "collapsed": false
    },
    "source": []
   }
  }
 },
 "nbformat": 4,
 "nbformat_minor": 4
}
