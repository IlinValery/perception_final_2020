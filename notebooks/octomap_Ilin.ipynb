{
 "cells": [
  {
   "cell_type": "code",
   "execution_count": 1,
   "metadata": {},
   "outputs": [],
   "source": [
    "import octomap"
   ]
  },
  {
   "cell_type": "code",
   "execution_count": 2,
   "metadata": {},
   "outputs": [
    {
     "name": "stdout",
     "output_type": "stream",
     "text": [
      "['NullPointerException', 'OcTree', 'OcTreeKey', 'OcTreeNode', '__builtins__', '__doc__', '__file__', '__loader__', '__name__', '__package__', '__spec__', '__test__', '_octree_read', 'iterator_base', 'leaf_bbx_iterator', 'leaf_iterator', 'np', 'tree_iterator']\n"
     ]
    }
   ],
   "source": [
    "print(dir(octomap))"
   ]
  },
  {
   "cell_type": "code",
   "execution_count": 3,
   "metadata": {},
   "outputs": [],
   "source": [
    "import pyrealsense2 as rs\n",
    "import open3d as o3d\n",
    "import matplotlib.pyplot as plt\n",
    "import numpy as np\n",
    "from scipy.spatial.transform import Rotation as R\n",
    "from mpl_toolkits.mplot3d import Axes3D\n",
    "import time"
   ]
  },
  {
   "cell_type": "markdown",
   "metadata": {},
   "source": [
    "# Collecting frames for next dev"
   ]
  },
  {
   "cell_type": "code",
   "execution_count": 4,
   "metadata": {},
   "outputs": [],
   "source": [
    "count_of_frames = 20\n",
    "frames_between_frames_D435 = 15"
   ]
  },
  {
   "cell_type": "code",
   "execution_count": 5,
   "metadata": {},
   "outputs": [
    {
     "data": {
      "text/plain": [
       "10.0"
      ]
     },
     "execution_count": 5,
     "metadata": {},
     "output_type": "execute_result"
    }
   ],
   "source": [
    "count_of_frames * frames_between_frames_D435 / 30"
   ]
  },
  {
   "cell_type": "markdown",
   "metadata": {},
   "source": [
    "# Iitial configs"
   ]
  },
  {
   "cell_type": "code",
   "execution_count": 6,
   "metadata": {},
   "outputs": [],
   "source": [
    "# data filenames\n",
    "d435_filename = '../data/D435.bag'"
   ]
  },
  {
   "cell_type": "code",
   "execution_count": 7,
   "metadata": {},
   "outputs": [],
   "source": [
    "# config fo D435\n",
    "cfg_d435 = rs.config()\n",
    "cfg_d435.enable_device_from_file(d435_filename)\n",
    "cfg_d435.enable_stream(rs.stream.depth, 848, 480, rs.format.z16, 30)\n",
    "pipe_d435 = rs.pipeline()"
   ]
  },
  {
   "cell_type": "markdown",
   "metadata": {},
   "source": [
    "## Collecting frames"
   ]
  },
  {
   "cell_type": "code",
   "execution_count": 8,
   "metadata": {},
   "outputs": [],
   "source": [
    "d435_frames = []\n",
    "pipe_d435.start(cfg_d435)\n",
    "while len(d435_frames) != count_of_frames:\n",
    "    for i in range(frames_between_frames_D435):\n",
    "        depth_frame = pipe_d435.wait_for_frames().get_depth_frame()\n",
    "    d435_frames.append(depth_frame)\n",
    "pipe_d435.stop()"
   ]
  },
  {
   "cell_type": "code",
   "execution_count": 9,
   "metadata": {},
   "outputs": [],
   "source": [
    "def count_diff_frames(frames):\n",
    "    prev_frame = None\n",
    "    for i, frame in enumerate(frames):\n",
    "        if prev_frame is not None:\n",
    "            print(\"Difference bw {0} and {1} frames is {2:.4f} ms\".format(i, i-1, frame.get_timestamp()-prev_frame.get_timestamp()))\n",
    "        prev_frame = frame"
   ]
  },
  {
   "cell_type": "code",
   "execution_count": 10,
   "metadata": {},
   "outputs": [
    {
     "name": "stdout",
     "output_type": "stream",
     "text": [
      "Difference bw 1 and 0 frames is 500.7671 ms\n",
      "Difference bw 2 and 1 frames is 499.8582 ms\n",
      "Difference bw 3 and 2 frames is 500.9062 ms\n",
      "Difference bw 4 and 3 frames is 499.7070 ms\n",
      "Difference bw 5 and 4 frames is 500.0930 ms\n",
      "Difference bw 6 and 5 frames is 500.2417 ms\n",
      "Difference bw 7 and 6 frames is 500.3752 ms\n",
      "Difference bw 8 and 7 frames is 500.2996 ms\n",
      "Difference bw 9 and 8 frames is 500.2456 ms\n",
      "Difference bw 10 and 9 frames is 500.3613 ms\n",
      "Difference bw 11 and 10 frames is 500.2937 ms\n",
      "Difference bw 12 and 11 frames is 500.7803 ms\n",
      "Difference bw 13 and 12 frames is 499.8145 ms\n",
      "Difference bw 14 and 13 frames is 500.7185 ms\n",
      "Difference bw 15 and 14 frames is 499.9082 ms\n",
      "Difference bw 16 and 15 frames is 500.3823 ms\n",
      "Difference bw 17 and 16 frames is 500.2190 ms\n",
      "Difference bw 18 and 17 frames is 500.4111 ms\n",
      "Difference bw 19 and 18 frames is 500.2153 ms\n"
     ]
    }
   ],
   "source": [
    "count_diff_frames(d435_frames)"
   ]
  },
  {
   "cell_type": "code",
   "execution_count": 11,
   "metadata": {},
   "outputs": [
    {
     "data": {
      "text/plain": [
       "<pyrealsense2.pyrealsense2.depth_frame at 0x7f6a7ed5d6f0>"
      ]
     },
     "execution_count": 11,
     "metadata": {},
     "output_type": "execute_result"
    }
   ],
   "source": [
    "depth_frame = d435_frames[0]\n",
    "depth_frame"
   ]
  },
  {
   "cell_type": "code",
   "execution_count": null,
   "metadata": {},
   "outputs": [],
   "source": []
  },
  {
   "cell_type": "code",
   "execution_count": 12,
   "metadata": {},
   "outputs": [],
   "source": [
    "def get_coordinates(depth_frame, make_sampling=True, koef = 2**2, count_sampling = 1):\n",
    "    \"\"\"\n",
    "     TODO\n",
    "    :param make_sampling:\n",
    "    :return:\n",
    "    \"\"\"\n",
    "    pc = rs.pointcloud()\n",
    "    if make_sampling:\n",
    "        decimate = rs.decimation_filter()\n",
    "        decimate.set_option(rs.option.filter_magnitude, koef)\n",
    "        for i in range(count_sampling):\n",
    "            depth_frame = decimate.process(depth_frame)\n",
    "        points = pc.calculate(depth_frame).as_points()\n",
    "    else:\n",
    "        points = pc.calculate(depth_frame).as_points()\n",
    "\n",
    "    coordinates = np.ndarray(buffer=points.get_vertices(), dtype=np.float32, shape=(points.size(), 3))\n",
    "    coordinates = coordinates[coordinates[:, 2] != 0]\n",
    "\n",
    "#     coordinates = apply_transformation(tm_T265toD435, coordinates)\n",
    "    return coordinates\n"
   ]
  },
  {
   "cell_type": "code",
   "execution_count": 13,
   "metadata": {},
   "outputs": [],
   "source": [
    "pc = get_coordinates(depth_frame, koef = 2 ** 1, count_sampling = 1)"
   ]
  },
  {
   "cell_type": "code",
   "execution_count": 14,
   "metadata": {},
   "outputs": [
    {
     "data": {
      "text/plain": [
       "(91959, 3)"
      ]
     },
     "execution_count": 14,
     "metadata": {},
     "output_type": "execute_result"
    }
   ],
   "source": [
    "pc.shape"
   ]
  },
  {
   "cell_type": "markdown",
   "metadata": {},
   "source": [
    "# Octomap"
   ]
  },
  {
   "cell_type": "code",
   "execution_count": 15,
   "metadata": {},
   "outputs": [],
   "source": [
    "import math3d as m3d\n",
    "import glooey\n",
    "import imgviz\n",
    "import numpy as np\n",
    "import pyglet\n",
    "import trimesh\n",
    "import trimesh.transformations as tf\n",
    "import trimesh.viewer"
   ]
  },
  {
   "cell_type": "code",
   "execution_count": null,
   "metadata": {},
   "outputs": [],
   "source": []
  },
  {
   "cell_type": "code",
   "execution_count": 16,
   "metadata": {},
   "outputs": [
    {
     "data": {
      "text/plain": [
       "array([[1., 0., 0., 0.],\n",
       "       [0., 1., 0., 0.],\n",
       "       [0., 0., 1., 0.],\n",
       "       [0., 0., 0., 1.]])"
      ]
     },
     "execution_count": 16,
     "metadata": {},
     "output_type": "execute_result"
    }
   ],
   "source": [
    "m3d.Transform(np.zeros(6)).array"
   ]
  },
  {
   "cell_type": "code",
   "execution_count": 17,
   "metadata": {},
   "outputs": [],
   "source": [
    "def labeled_scene_widget(scene, label):\n",
    "    vbox = glooey.VBox()\n",
    "    vbox.add(glooey.Label(text=label, color=(255, 255, 0)), size=0)\n",
    "    vbox.add(trimesh.viewer.SceneWidget(scene))\n",
    "    return vbox\n"
   ]
  },
  {
   "cell_type": "code",
   "execution_count": 18,
   "metadata": {},
   "outputs": [],
   "source": [
    "def visualize(occupied, resolution, aabb):\n",
    "    window = pyglet.window.Window( # pyglet http://pyglet.org/\n",
    "        width=int(640), height=int(480)\n",
    "    )\n",
    "\n",
    "    @window.event\n",
    "    def on_key_press(symbol, modifiers):\n",
    "        if modifiers == 0:\n",
    "            if symbol == pyglet.window.key.Q:\n",
    "                window.on_close()\n",
    "\n",
    "    gui = glooey.Gui(window)\n",
    "    hbox = glooey.HBox()\n",
    "    hbox.set_padding(5)\n",
    "\n",
    "    aabb_min, aabb_max = aabb\n",
    "    bbox = trimesh.path.creation.box_outline(\n",
    "        aabb_max - aabb_min,\n",
    "        tf.translation_matrix((aabb_min + aabb_max) / 2),\n",
    "    )\n",
    "\n",
    "    geom = trimesh.voxel.ops.multibox(\n",
    "        occupied, pitch=resolution, colors=[1., 0, 0, 0.5]\n",
    "    )\n",
    "    scene = trimesh.Scene(geometry=[bbox, geom])\n",
    "    hbox.add(labeled_scene_widget(scene, label='occupied'))\n",
    "\n",
    "    geom = trimesh.voxel.ops.multibox(\n",
    "        empty, pitch=resolution, colors=[0.5, 0.5, 0.5, 0.5]\n",
    "    )\n",
    "#     scene = trimesh.Scene(geometry=[bbox, geom])\n",
    "#     hbox.add(labeled_scene_widget(scene, label='empty'))\n",
    "\n",
    "    gui.add(hbox)\n",
    "    pyglet.app.run()"
   ]
  },
  {
   "cell_type": "code",
   "execution_count": 19,
   "metadata": {},
   "outputs": [],
   "source": [
    "resolution = 0.1\n",
    "octree = octomap.OcTree(resolution)\n",
    "\n",
    "octree.insertPointCloud(\n",
    "    pointcloud=np.double(pc),\n",
    "    origin=np.array([0, 0, 0], dtype=float),\n",
    "    maxrange=2,\n",
    ")\n",
    "\n",
    "\n",
    "occupied, empty = octree.extractPointCloud()\n",
    "\n",
    "aabb_min = octree.getMetricMin()\n",
    "aabb_max = octree.getMetricMax()\n",
    "\n",
    "visualize(\n",
    "    occupied=occupied, # no :(\n",
    "    resolution=resolution,\n",
    "    aabb=(aabb_min, aabb_max),\n",
    ")\n"
   ]
  },
  {
   "cell_type": "code",
   "execution_count": null,
   "metadata": {},
   "outputs": [],
   "source": []
  }
 ],
 "metadata": {
  "kernelspec": {
   "display_name": "Python 3",
   "language": "python",
   "name": "python3"
  },
  "language_info": {
   "codemirror_mode": {
    "name": "ipython",
    "version": 3
   },
   "file_extension": ".py",
   "mimetype": "text/x-python",
   "name": "python",
   "nbconvert_exporter": "python",
   "pygments_lexer": "ipython3",
   "version": "3.7.5"
  }
 },
 "nbformat": 4,
 "nbformat_minor": 4
}
