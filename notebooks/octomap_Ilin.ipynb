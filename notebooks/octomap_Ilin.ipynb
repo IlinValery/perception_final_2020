{
 "cells": [
  {
   "cell_type": "code",
   "execution_count": 2,
   "metadata": {},
   "outputs": [],
   "source": [
    "import octomap"
   ]
  },
  {
   "cell_type": "code",
   "execution_count": 3,
   "metadata": {},
   "outputs": [
    {
     "name": "stdout",
     "output_type": "stream",
     "text": [
      "['NullPointerException', 'OcTree', 'OcTreeKey', 'OcTreeNode', '__builtins__', '__doc__', '__file__', '__loader__', '__name__', '__package__', '__spec__', '__test__', '_octree_read', 'iterator_base', 'leaf_bbx_iterator', 'leaf_iterator', 'np', 'tree_iterator']\n"
     ]
    }
   ],
   "source": [
    "print(dir(octomap))"
   ]
  },
  {
   "cell_type": "code",
   "execution_count": 4,
   "metadata": {},
   "outputs": [],
   "source": [
    "import pyrealsense2 as rs\n",
    "import open3d as o3d\n",
    "import matplotlib.pyplot as plt\n",
    "import numpy as np\n",
    "from scipy.spatial.transform import Rotation as R\n",
    "from mpl_toolkits.mplot3d import Axes3D\n",
    "import time"
   ]
  },
  {
   "cell_type": "markdown",
   "metadata": {},
   "source": [
    "# Collecting frames for next dev"
   ]
  },
  {
   "cell_type": "code",
   "execution_count": 5,
   "metadata": {},
   "outputs": [],
   "source": [
    "count_of_frames = 20\n",
    "frames_between_frames_D435 = 15"
   ]
  },
  {
   "cell_type": "code",
   "execution_count": 6,
   "metadata": {},
   "outputs": [
    {
     "data": {
      "text/plain": [
       "10.0"
      ]
     },
     "execution_count": 6,
     "metadata": {},
     "output_type": "execute_result"
    }
   ],
   "source": [
    "count_of_frames * frames_between_frames_D435 / 30"
   ]
  },
  {
   "cell_type": "markdown",
   "metadata": {},
   "source": [
    "# Iitial configs"
   ]
  },
  {
   "cell_type": "code",
   "execution_count": 7,
   "metadata": {},
   "outputs": [],
   "source": [
    "# data filenames\n",
    "d435_filename = '../data/D435.bag'"
   ]
  },
  {
   "cell_type": "code",
   "execution_count": 8,
   "metadata": {},
   "outputs": [],
   "source": [
    "# config fo D435\n",
    "cfg_d435 = rs.config()\n",
    "cfg_d435.enable_device_from_file(d435_filename)\n",
    "cfg_d435.enable_stream(rs.stream.depth, 848, 480, rs.format.z16, 30)\n",
    "pipe_d435 = rs.pipeline()"
   ]
  },
  {
   "cell_type": "markdown",
   "metadata": {},
   "source": [
    "## Collecting frames"
   ]
  },
  {
   "cell_type": "code",
   "execution_count": 9,
   "metadata": {},
   "outputs": [],
   "source": [
    "d435_frames = []\n",
    "pipe_d435.start(cfg_d435)\n",
    "while len(d435_frames) != count_of_frames:\n",
    "    for i in range(frames_between_frames_D435):\n",
    "        depth_frame = pipe_d435.wait_for_frames().get_depth_frame()\n",
    "    d435_frames.append(depth_frame)\n",
    "pipe_d435.stop()"
   ]
  },
  {
   "cell_type": "code",
   "execution_count": 10,
   "metadata": {},
   "outputs": [],
   "source": [
    "def count_diff_frames(frames):\n",
    "    prev_frame = None\n",
    "    for i, frame in enumerate(frames):\n",
    "        if prev_frame is not None:\n",
    "            print(\"Difference bw {0} and {1} frames is {2:.4f} ms\".format(i, i-1, frame.get_timestamp()-prev_frame.get_timestamp()))\n",
    "        prev_frame = frame"
   ]
  },
  {
   "cell_type": "code",
   "execution_count": 11,
   "metadata": {},
   "outputs": [
    {
     "name": "stdout",
     "output_type": "stream",
     "text": [
      "Difference bw 1 and 0 frames is 500.7671 ms\n",
      "Difference bw 2 and 1 frames is 499.8582 ms\n",
      "Difference bw 3 and 2 frames is 500.9062 ms\n",
      "Difference bw 4 and 3 frames is 499.7070 ms\n",
      "Difference bw 5 and 4 frames is 500.0930 ms\n",
      "Difference bw 6 and 5 frames is 500.2417 ms\n",
      "Difference bw 7 and 6 frames is 500.3752 ms\n",
      "Difference bw 8 and 7 frames is 500.2996 ms\n",
      "Difference bw 9 and 8 frames is 500.2456 ms\n",
      "Difference bw 10 and 9 frames is 500.3613 ms\n",
      "Difference bw 11 and 10 frames is 500.2937 ms\n",
      "Difference bw 12 and 11 frames is 500.7803 ms\n",
      "Difference bw 13 and 12 frames is 499.8145 ms\n",
      "Difference bw 14 and 13 frames is 500.7185 ms\n",
      "Difference bw 15 and 14 frames is 499.9082 ms\n",
      "Difference bw 16 and 15 frames is 500.3823 ms\n",
      "Difference bw 17 and 16 frames is 500.2190 ms\n",
      "Difference bw 18 and 17 frames is 500.4111 ms\n",
      "Difference bw 19 and 18 frames is 500.2153 ms\n"
     ]
    }
   ],
   "source": [
    "count_diff_frames(d435_frames)"
   ]
  },
  {
   "cell_type": "code",
   "execution_count": 12,
   "metadata": {},
   "outputs": [
    {
     "data": {
      "text/plain": [
       "<pyrealsense2.pyrealsense2.depth_frame at 0x7f1b1dbf8730>"
      ]
     },
     "execution_count": 12,
     "metadata": {},
     "output_type": "execute_result"
    }
   ],
   "source": [
    "depth_frame = d435_frames[0]\n",
    "depth_frame"
   ]
  },
  {
   "cell_type": "code",
   "execution_count": null,
   "metadata": {},
   "outputs": [],
   "source": []
  },
  {
   "cell_type": "code",
   "execution_count": 13,
   "metadata": {},
   "outputs": [],
   "source": [
    "def get_coordinates(depth_frame, make_sampling=True, koef = 2**2, count_sampling = 1):\n",
    "    \"\"\"\n",
    "     TODO\n",
    "    :param make_sampling:\n",
    "    :return:\n",
    "    \"\"\"\n",
    "    pc = rs.pointcloud()\n",
    "    if make_sampling:\n",
    "        decimate = rs.decimation_filter()\n",
    "        decimate.set_option(rs.option.filter_magnitude, koef)\n",
    "        for i in range(count_sampling):\n",
    "            depth_frame = decimate.process(depth_frame)\n",
    "        points = pc.calculate(depth_frame).as_points()\n",
    "    else:\n",
    "        points = pc.calculate(depth_frame).as_points()\n",
    "\n",
    "    coordinates = np.ndarray(buffer=points.get_vertices(), dtype=np.float32, shape=(points.size(), 3))\n",
    "    coordinates = coordinates[coordinates[:, 2] != 0]\n",
    "\n",
    "#     coordinates = apply_transformation(tm_T265toD435, coordinates)\n",
    "    return coordinates\n"
   ]
  },
  {
   "cell_type": "code",
   "execution_count": 14,
   "metadata": {},
   "outputs": [],
   "source": [
    "pc = get_coordinates(depth_frame, koef = 2 ** 1, count_sampling = 1)"
   ]
  },
  {
   "cell_type": "code",
   "execution_count": 15,
   "metadata": {},
   "outputs": [
    {
     "data": {
      "text/plain": [
       "(91959, 3)"
      ]
     },
     "execution_count": 15,
     "metadata": {},
     "output_type": "execute_result"
    }
   ],
   "source": [
    "pc.shape"
   ]
  },
  {
   "cell_type": "markdown",
   "metadata": {},
   "source": [
    "# Octomap"
   ]
  },
  {
   "cell_type": "code",
   "execution_count": 16,
   "metadata": {},
   "outputs": [],
   "source": [
    "import math3d as m3d\n",
    "import glooey\n",
    "import imgviz\n",
    "import numpy as np\n",
    "import pyglet\n",
    "import trimesh\n",
    "import trimesh.transformations as tf\n",
    "import trimesh.viewer"
   ]
  },
  {
   "cell_type": "code",
   "execution_count": 17,
   "metadata": {},
   "outputs": [
    {
     "data": {
      "text/plain": [
       "array([[1., 0., 0., 0.],\n",
       "       [0., 1., 0., 0.],\n",
       "       [0., 0., 1., 0.],\n",
       "       [0., 0., 0., 1.]])"
      ]
     },
     "execution_count": 17,
     "metadata": {},
     "output_type": "execute_result"
    }
   ],
   "source": [
    "m3d.Transform(np.zeros(6)).array"
   ]
  },
  {
   "cell_type": "code",
   "execution_count": 18,
   "metadata": {},
   "outputs": [],
   "source": [
    "def labeled_scene_widget(scene, label):\n",
    "    vbox = glooey.VBox()\n",
    "    vbox.add(glooey.Label(text=label, color=(255, 255, 0)), size=0)\n",
    "    vbox.add(trimesh.viewer.SceneWidget(scene))\n",
    "    return vbox\n"
   ]
  },
  {
   "cell_type": "code",
   "execution_count": 19,
   "metadata": {},
   "outputs": [],
   "source": [
    "def visualize(occupied, resolution, aabb):\n",
    "    window = pyglet.window.Window( # pyglet http://pyglet.org/\n",
    "        width=int(1024), height=int(768)\n",
    "    )\n",
    "\n",
    "    @window.event\n",
    "    def on_key_press(symbol, modifiers):\n",
    "        if modifiers == 0:\n",
    "            if symbol == pyglet.window.key.Q:\n",
    "                window.on_close()\n",
    "\n",
    "    gui = glooey.Gui(window)\n",
    "    hbox = glooey.VBox()\n",
    "#     hbox.set_padding(50)\n",
    "\n",
    "\n",
    "    aabb_min, aabb_max = aabb\n",
    "    bbox = trimesh.path.creation.box_outline(\n",
    "        aabb_max - aabb_min,\n",
    "        tf.translation_matrix((aabb_min + aabb_max) / 2),\n",
    "    )\n",
    "\n",
    "    geom = trimesh.voxel.ops.multibox(\n",
    "        occupied, pitch=resolution, colors=[1., 0, 0, 0.5]\n",
    "    )\n",
    "    scene = trimesh.Scene(geometry=[bbox, geom])\n",
    "\n",
    "    gui.add(trimesh.viewer.SceneWidget(scene))\n",
    "    pyglet.app.run()"
   ]
  },
  {
   "cell_type": "code",
   "execution_count": 20,
   "metadata": {},
   "outputs": [],
   "source": [
    "def visualize(occupied, resolution, aabb):\n",
    "    window = pyglet.window.Window( # pyglet http://pyglet.org/\n",
    "        width=int(1024), height=int(768)\n",
    "    )\n",
    "\n",
    "    @window.event\n",
    "    def on_key_press(symbol, modifiers):\n",
    "        if modifiers == 0:\n",
    "            if symbol == pyglet.window.key.Q:\n",
    "                window.on_close()\n",
    "\n",
    "    gui = glooey.Gui(window)\n",
    "    hbox = glooey.VBox()\n",
    "#     hbox.set_padding(50)\n",
    "\n",
    "\n",
    "    aabb_min, aabb_max = aabb\n",
    "    bbox = trimesh.path.creation.box_outline(\n",
    "        aabb_max - aabb_min,\n",
    "        tf.translation_matrix((aabb_min + aabb_max) / 2),\n",
    "    )\n",
    "\n",
    "    geom = trimesh.voxel.ops.multibox(\n",
    "        occupied, pitch=resolution, colors=[1., 0, 0, 0.5]\n",
    "    )\n",
    "    scene = trimesh.Scene(geometry=[bbox, geom])\n",
    "\n",
    "#     gui.add(trimesh.viewer.SceneWidget(scene))\n",
    "#     pyglet.app.run()\n",
    "    return scene"
   ]
  },
  {
   "cell_type": "code",
   "execution_count": 21,
   "metadata": {},
   "outputs": [
    {
     "data": {
      "text/plain": [
       "<trimesh.Scene(len(geometry)=2)>"
      ]
     },
     "execution_count": 21,
     "metadata": {},
     "output_type": "execute_result"
    }
   ],
   "source": [
    "resolution = 0.05\n",
    "octree = octomap.OcTree(resolution)\n",
    "\n",
    "octree.insertPointCloud(\n",
    "    pointcloud=np.double(pc),\n",
    "    origin=np.array([0, 0, 0], dtype=float),\n",
    "    maxrange=2,\n",
    ")\n",
    "\n",
    "\n",
    "occupied, empty = octree.extractPointCloud()\n",
    "\n",
    "aabb_min = octree.getMetricMin()\n",
    "aabb_max = octree.getMetricMax()\n",
    "\n",
    "visualize(\n",
    "    occupied=occupied, # no :(\n",
    "    resolution=resolution,\n",
    "    aabb=(aabb_min, aabb_max),\n",
    ")\n"
   ]
  },
  {
   "cell_type": "code",
   "execution_count": 20,
   "metadata": {},
   "outputs": [
    {
     "data": {
      "text/plain": [
       "array([-1.4, -1. ,  0. ])"
      ]
     },
     "execution_count": 20,
     "metadata": {},
     "output_type": "execute_result"
    }
   ],
   "source": [
    "aabb_min"
   ]
  },
  {
   "cell_type": "code",
   "execution_count": 21,
   "metadata": {},
   "outputs": [
    {
     "data": {
      "text/plain": [
       "array([0.45, 0.75, 2.  ])"
      ]
     },
     "execution_count": 21,
     "metadata": {},
     "output_type": "execute_result"
    }
   ],
   "source": [
    "aabb_max"
   ]
  },
  {
   "cell_type": "code",
   "execution_count": 21,
   "metadata": {},
   "outputs": [],
   "source": [
    "import threading\n",
    "\n",
    "\n",
    "class StoppableThread(threading.Thread):\n",
    "    \"\"\"Thread class with a stop() method. The thread itself has to check\n",
    "    regularly for the is_executed() condition.\"\"\"\n",
    "\n",
    "    def __init__(self,  *args, **kwargs):\n",
    "        super(StoppableThread, self).__init__(*args, **kwargs)\n",
    "        self._execution_status = True\n",
    "\n",
    "    def stop(self):\n",
    "        self._execution_status = False\n",
    "\n",
    "    def is_execute(self):\n",
    "        return self._execution_status\n"
   ]
  },
  {
   "cell_type": "code",
   "execution_count": 22,
   "metadata": {},
   "outputs": [],
   "source": [
    "import time\n",
    "import numpy as np\n",
    "import glooey\n",
    "import octomap\n",
    "import pyglet # http://pyglet.org/\n",
    "import trimesh\n",
    "import trimesh.transformations as tf\n",
    "import trimesh.viewer\n",
    "# from helpers.custom_threading import StoppableThread\n",
    "\n",
    "\n",
    "class OctoMapVisualiser:\n",
    "    def __init__(self, update_time=1/30, resolution=0.01):\n",
    "        self.update_time = update_time\n",
    "        self.resolution = resolution\n",
    "        self.octree = octomap.OcTree(resolution)\n",
    "\n",
    "        self.point_cloud = None\n",
    "        self.is_changed = False\n",
    "        self.window = pyglet.window.Window(width=1024, height=720)\n",
    "\n",
    "        @self.window.event\n",
    "        def on_key_press(symbol, modifiers):\n",
    "            if modifiers == 0:\n",
    "                if symbol == pyglet.window.key.Q:\n",
    "                    self.window.on_close()\n",
    "\n",
    "        self.gui = glooey.Gui(self.window)\n",
    "        \n",
    "#         aabb_min = np.array([-1.4, -1. ,  0. ])\n",
    "#         aabb_max = np.array([0.45, 0.75, 2.  ])\n",
    "#         initial_bbox = trimesh.path.creation.box_outline(\n",
    "#             aabb_max - aabb_min,\n",
    "#             tf.translation_matrix((aabb_min + aabb_max) / 2),\n",
    "#         )        \n",
    "        self.scene = visualize(\n",
    "                    occupied=occupied, # no :(\n",
    "                    resolution=resolution,\n",
    "                    aabb=(aabb_min, aabb_max),\n",
    "                )\n",
    "\n",
    "#         trimesh.Scene(geometry=[initial_bbox])\n",
    "        \n",
    "        self.app_visualiser = None\n",
    "        self.start_visualiser()\n",
    "\n",
    "    def __del__(self):\n",
    "        print(\"Deleting octomap\")\n",
    "        pyglet.clock.unschedule(func=self.update_visualisation)\n",
    "        self.app_visualiser.stop()\n",
    "        self.window.close()\n",
    "\n",
    "\n",
    "    def update_visualisation(self, dt):\n",
    "        if self.is_changed:\n",
    "            if self.point_cloud is not None:\n",
    "                self.octree.insertPointCloud(\n",
    "                    pointcloud=np.double(self.point_cloud),\n",
    "                    origin=np.array([0, 0, 0], dtype=float), # TODO this\n",
    "                    maxrange=2,\n",
    "                )\n",
    "\n",
    "                occupied, _ = self.octree.extractPointCloud()\n",
    "                aabb_min = self.octree.getMetricMin()\n",
    "                aabb_max = self.octree.getMetricMax()\n",
    "\n",
    "                bbox = trimesh.path.creation.box_outline(\n",
    "                    aabb_max - aabb_min,\n",
    "                    tf.translation_matrix((aabb_min + aabb_max) / 2),\n",
    "                )\n",
    "                geom = trimesh.voxel.ops.multibox(\n",
    "                    occupied, pitch=self.resolution, colors=[1., 0, 0, 0.5]\n",
    "                )\n",
    "                self.scene = trimesh.Scene(geometry=[bbox, geom])                \n",
    "\n",
    "#                 self.update_hbox(occupied, aabb_min, aabb_max)\n",
    "\n",
    "            self.is_changed = False\n",
    "        else:\n",
    "            print(\"Didn't changed\")\n",
    "            pass\n",
    "\n",
    "\n",
    "    def update_points(self, new_pc):\n",
    "        self.point_cloud = new_pc\n",
    "        self.is_changed = True\n",
    "\n",
    "    def init_visualiser(self):\n",
    "        pyglet.clock.schedule_interval(func=self.update_visualisation, interval=self.update_time)\n",
    "        self.gui.add(trimesh.viewer.SceneWidget(self.scene))\n",
    "        pyglet.app.run()\n",
    "\n",
    "    def start_visualiser(self):\n",
    "        self.app_visualiser = StoppableThread(target=self.init_visualiser)\n",
    "        self.app_visualiser.start()\n",
    "\n",
    "    def stop_visualiser(self):\n",
    "        self.__del__()\n",
    "\n"
   ]
  },
  {
   "cell_type": "code",
   "execution_count": 1,
   "metadata": {},
   "outputs": [
    {
     "ename": "NameError",
     "evalue": "name 'OctoMapVisualiser' is not defined",
     "output_type": "error",
     "traceback": [
      "\u001b[0;31m---------------------------------------------------------------------------\u001b[0m",
      "\u001b[0;31mNameError\u001b[0m                                 Traceback (most recent call last)",
      "\u001b[0;32m<ipython-input-1-cc443eea6dd9>\u001b[0m in \u001b[0;36m<module>\u001b[0;34m\u001b[0m\n\u001b[0;32m----> 1\u001b[0;31m \u001b[0mocto_visualiser\u001b[0m \u001b[0;34m=\u001b[0m \u001b[0mOctoMapVisualiser\u001b[0m\u001b[0;34m(\u001b[0m\u001b[0mupdate_time\u001b[0m\u001b[0;34m=\u001b[0m\u001b[0;36m2\u001b[0m\u001b[0;34m)\u001b[0m\u001b[0;34m\u001b[0m\u001b[0;34m\u001b[0m\u001b[0m\n\u001b[0m",
      "\u001b[0;31mNameError\u001b[0m: name 'OctoMapVisualiser' is not defined"
     ]
    }
   ],
   "source": [
    "octo_visualiser = OctoMapVisualiser(update_time=2)"
   ]
  },
  {
   "cell_type": "code",
   "execution_count": 24,
   "metadata": {},
   "outputs": [
    {
     "ename": "NameError",
     "evalue": "name 'octo_visualiser' is not defined",
     "output_type": "error",
     "traceback": [
      "\u001b[0;31m---------------------------------------------------------------------------\u001b[0m",
      "\u001b[0;31mNameError\u001b[0m                                 Traceback (most recent call last)",
      "\u001b[0;32m<ipython-input-24-be4d04ae20af>\u001b[0m in \u001b[0;36m<module>\u001b[0;34m\u001b[0m\n\u001b[0;32m----> 1\u001b[0;31m \u001b[0mocto_visualiser\u001b[0m\u001b[0;34m.\u001b[0m\u001b[0mstop_visualiser\u001b[0m\u001b[0;34m(\u001b[0m\u001b[0;34m)\u001b[0m\u001b[0;34m\u001b[0m\u001b[0;34m\u001b[0m\u001b[0m\n\u001b[0m",
      "\u001b[0;31mNameError\u001b[0m: name 'octo_visualiser' is not defined"
     ]
    }
   ],
   "source": [
    "octo_visualiser.stop_visualiser()"
   ]
  },
  {
   "cell_type": "code",
   "execution_count": null,
   "metadata": {},
   "outputs": [],
   "source": []
  },
  {
   "cell_type": "code",
   "execution_count": 19,
   "metadata": {},
   "outputs": [
    {
     "name": "stdout",
     "output_type": "stream",
     "text": [
      "CPU times: user 4 µs, sys: 2 µs, total: 6 µs\n",
      "Wall time: 11.9 µs\n"
     ]
    }
   ],
   "source": [
    "%time\n",
    "resolution = 0.05\n",
    "octree = octomap.OcTree(resolution)\n",
    "\n",
    "octree.insertPointCloud(\n",
    "    pointcloud=np.double(pc),\n",
    "    origin=np.array([0, 0, 0], dtype=float),\n",
    "    maxrange=2,\n",
    ")\n",
    "\n",
    "occupied, empty = octree.extractPointCloud()\n",
    "aabb_min = octree.getMetricMin()\n",
    "aabb_max = octree.getMetricMax()"
   ]
  },
  {
   "cell_type": "code",
   "execution_count": 21,
   "metadata": {},
   "outputs": [],
   "source": [
    "from mayavi.mlab import *"
   ]
  },
  {
   "cell_type": "code",
   "execution_count": 28,
   "metadata": {},
   "outputs": [
    {
     "data": {
      "text/plain": [
       "array([[-0.19999999, -0.1       ,  0.54999998],\n",
       "       [-0.40000001,  0.        ,  1.60000005],\n",
       "       [-0.15      , -0.65000001,  1.9       ],\n",
       "       ...,\n",
       "       [ 0.05      ,  0.65      ,  1.85000005],\n",
       "       [ 0.05      ,  0.70000001,  1.85000005],\n",
       "       [ 0.05      ,  0.70000001,  1.9       ]])"
      ]
     },
     "execution_count": 28,
     "metadata": {},
     "output_type": "execute_result"
    }
   ],
   "source": [
    "occupied"
   ]
  },
  {
   "cell_type": "code",
   "execution_count": 29,
   "metadata": {},
   "outputs": [],
   "source": [
    "# itr = octree\n",
    "# root_size = itr.size()\n",
    "# op = []\n",
    "# fp = []\n",
    "# so = []\n",
    "# sf = []\n",
    "# for i in itr:\n",
    "#     if i.isLeaf():\n",
    "#         if self.tree.isNodeOccupied(i):\n",
    "#             so.append(i.getSize() / root_size)\n",
    "#             op.append(i.getCoordinate())\n",
    "#         else:\n",
    "#             if self.view_free:\n",
    "#                 sf.append(i.getSize() / root_size)\n",
    "#                 fp.append(i.getCoordinate())\n",
    "# op = zip(*op)\n",
    "# fp = zip(*fp)\n",
    "# points3d(occupied[:,0], occupied[:,1], occupied[:,2], opacity=1.0, mode='cube',\n",
    "#          color=(0, 0, 1), scale_mode='scalar', scale_factor=root_size)\n",
    "# if self.view_free:\n",
    "#     points3d(fp[0], fp[1], fp[2], sf, opacity=0.3, mode='cube',\n",
    "#              color=(0, 1, 0), scale_mode='scalar', scale_factor=root_size)\n",
    "show()"
   ]
  },
  {
   "cell_type": "code",
   "execution_count": 20,
   "metadata": {},
   "outputs": [
    {
     "ename": "TypeError",
     "evalue": "expected bytes, str found",
     "output_type": "error",
     "traceback": [
      "\u001b[0;31m---------------------------------------------------------------------------\u001b[0m",
      "\u001b[0;31mTypeError\u001b[0m                                 Traceback (most recent call last)",
      "\u001b[0;32m<ipython-input-20-a64fe3021b46>\u001b[0m in \u001b[0;36m<module>\u001b[0;34m\u001b[0m\n\u001b[0;32m----> 1\u001b[0;31m \u001b[0moctree\u001b[0m\u001b[0;34m.\u001b[0m\u001b[0mwrite\u001b[0m\u001b[0;34m(\u001b[0m\u001b[0;34m'tree.oct'\u001b[0m\u001b[0;34m)\u001b[0m\u001b[0;34m\u001b[0m\u001b[0;34m\u001b[0m\u001b[0m\n\u001b[0m",
      "\u001b[0;32moctomap/octomap.pyx\u001b[0m in \u001b[0;36moctomap.OcTree.write\u001b[0;34m()\u001b[0m\n",
      "\u001b[0;31mTypeError\u001b[0m: expected bytes, str found"
     ]
    }
   ],
   "source": [
    "octree.write('tree.oct')"
   ]
  },
  {
   "cell_type": "code",
   "execution_count": 27,
   "metadata": {},
   "outputs": [
    {
     "data": {
      "text/plain": [
       "(2146, 3)"
      ]
     },
     "execution_count": 27,
     "metadata": {},
     "output_type": "execute_result"
    }
   ],
   "source": [
    "occupied.shape"
   ]
  },
  {
   "cell_type": "code",
   "execution_count": 29,
   "metadata": {},
   "outputs": [
    {
     "data": {
      "text/plain": [
       "(91959, 3)"
      ]
     },
     "execution_count": 29,
     "metadata": {},
     "output_type": "execute_result"
    }
   ],
   "source": [
    "pc.shape"
   ]
  },
  {
   "cell_type": "code",
   "execution_count": 33,
   "metadata": {},
   "outputs": [
    {
     "name": "stderr",
     "output_type": "stream",
     "text": [
      "\u001b[36mDEBUG   \u001b[0m     kernelbase.py:252   \u001b[34m\n",
      "*** MESSAGE TYPE:execute_request***\u001b[0m\n",
      "\u001b[36mDEBUG   \u001b[0m     kernelbase.py:253   \u001b[34m   Content: {'silent': False, 'store_history': True, 'user_expressions': {}, 'allow_stdin': True, 'stop_on_error': True, 'code': 'resolution = 0.05\\noctree = octomap.OcTree(resolution)\\n\\noctree.insertPointCloud(\\n    pointcloud=np.double(pc),\\n    origin=np.array([0, 0, 0], dtype=float),\\n    maxrange=2,\\n)\\n\\n\\noccupied, empty = octree.extractPointCloud()\\n\\naabb_min = octree.getMetricMin()\\naabb_max = octree.getMetricMax()\\n\\nvisualize(\\n    occupied=occupied, # no :(\\n    resolution=resolution,\\n    aabb=(aabb_min, aabb_max),\\n)\\n'}\n",
      "   --->\n",
      "   \u001b[0m\n",
      "\u001b[36mDEBUG   \u001b[0m     kernelbase.py:262   \u001b[34mexecute_request: {'header': {'date': datetime.datetime(2020, 3, 29, 12, 9, 8, 671000, tzinfo=tzutc()), 'msg_id': '5d1b7b5c-9510-43e6-a133-cf970fd82245', 'msg_type': 'execute_request', 'session': 'c5eec68d-e0d8-4f92-8d14-0c8d4048b22b', 'username': '', 'version': '5.2'}, 'msg_id': '5d1b7b5c-9510-43e6-a133-cf970fd82245', 'msg_type': 'execute_request', 'parent_header': {}, 'metadata': {'deletedCells': ['40762732-9b20-44ff-b29e-0938965d01a1', '90cf518f-ed6a-4c45-9aaf-ba64f16d98ef'], 'recordTiming': False, 'cellId': '05d958c9-c438-42dd-baa8-0653ec7aed28'}, 'content': {'silent': False, 'store_history': True, 'user_expressions': {}, 'allow_stdin': True, 'stop_on_error': True, 'code': 'resolution = 0.05\\noctree = octomap.OcTree(resolution)\\n\\noctree.insertPointCloud(\\n    pointcloud=np.double(pc),\\n    origin=np.array([0, 0, 0], dtype=float),\\n    maxrange=2,\\n)\\n\\n\\noccupied, empty = octree.extractPointCloud()\\n\\naabb_min = octree.getMetricMin()\\naabb_max = octree.getMetricMax()\\n\\nvisualize(\\n    occupied=occupied, # no :(\\n    resolution=resolution,\\n    aabb=(aabb_min, aabb_max),\\n)\\n'}, 'buffers': []}\u001b[0m\n",
      "\u001b[36mDEBUG   \u001b[0m     primitives.py:598   \u001b[34mcreating mesh for Box primitive\u001b[0m\n",
      "\u001b[36mDEBUG   \u001b[0m        caching.py:425   \u001b[34m1 items cleared from cache: ['face_normals']\u001b[0m\n",
      "\u001b[36mDEBUG   \u001b[0m           base.py:2265  \u001b[34mmesh transformed by matrix\u001b[0m\n",
      "\u001b[36mDEBUG   \u001b[0m        caching.py:116   \u001b[34m`bounds`: 2.06E-04s, `cache.verify`: 1.17E-04s\u001b[0m\n",
      "\u001b[36mDEBUG   \u001b[0m        caching.py:116   \u001b[34m`referenced_vertices`: 5.54E-04s, `cache.verify`: 2.33E-06s\u001b[0m\n",
      "\u001b[36mDEBUG   \u001b[0m        caching.py:116   \u001b[34m`bounds`: 2.93E-03s, `cache.verify`: 2.53E-05s\u001b[0m\n",
      "\u001b[36mDEBUG   \u001b[0m        caching.py:116   \u001b[34m`nodes_geometry`: 2.50E-05s, `cache.verify`: 1.66E-05s\u001b[0m\n",
      "\u001b[36mDEBUG   \u001b[0m        caching.py:116   \u001b[34m`bounds_corners`: 6.42E-03s, `cache.verify`: 1.74E-03s\u001b[0m\n",
      "\u001b[36mDEBUG   \u001b[0m        caching.py:425   \u001b[34m1 items cleared from cache: ['bounds_corners']\u001b[0m\n",
      "\u001b[36mDEBUG   \u001b[0m        caching.py:116   \u001b[34m`nodes_geometry`: 2.94E-05s, `cache.verify`: 1.52E-06s\u001b[0m\n",
      "\u001b[36mDEBUG   \u001b[0m        caching.py:116   \u001b[34m`bounds_corners`: 1.53E-03s, `cache.verify`: 2.33E-05s\u001b[0m\n",
      "\u001b[36mDEBUG   \u001b[0m        caching.py:116   \u001b[34m`bounds`: 4.72E-03s, `cache.verify`: 2.91E-05s\u001b[0m\n",
      "\u001b[36mDEBUG   \u001b[0m        caching.py:116   \u001b[34m`extents`: 5.94E-03s, `cache.verify`: 7.67E-05s\u001b[0m\n",
      "\u001b[36mDEBUG   \u001b[0m        caching.py:116   \u001b[34m`scale`: 6.94E-03s, `cache.verify`: 1.38E-03s\u001b[0m\n",
      "\u001b[36mDEBUG   \u001b[0m        caching.py:116   \u001b[34m`centroid`: 7.54E-05s, `cache.verify`: 5.30E-05s\u001b[0m\n",
      "\u001b[36mDEBUG   \u001b[0m     primitives.py:598   \u001b[34mcreating mesh for Box primitive\u001b[0m\n",
      "\u001b[36mDEBUG   \u001b[0m        caching.py:425   \u001b[34m1 items cleared from cache: ['face_normals']\u001b[0m\n",
      "\u001b[36mDEBUG   \u001b[0m           base.py:2265  \u001b[34mmesh transformed by matrix\u001b[0m\n",
      "\u001b[36mDEBUG   \u001b[0m        caching.py:116   \u001b[34m`edges`: 1.54E-03s, `cache.verify`: 1.31E-06s\u001b[0m\n",
      "\u001b[36mDEBUG   \u001b[0m        caching.py:116   \u001b[34m`edges_sorted`: 4.59E-03s, `cache.verify`: 1.65E-06s\u001b[0m\n",
      "\u001b[36mDEBUG   \u001b[0m        caching.py:116   \u001b[34m`face_adjacency`: 1.60E-02s, `cache.verify`: 2.54E-06s\u001b[0m\n",
      "\u001b[36mDEBUG   \u001b[0m           base.py:347   \u001b[34mgenerating face normals\u001b[0m\n",
      "\u001b[36mDEBUG   \u001b[0m        caching.py:116   \u001b[34m`triangles`: 1.22E-03s, `cache.verify`: 7.25E-06s\u001b[0m\n",
      "\u001b[36mDEBUG   \u001b[0m        caching.py:116   \u001b[34m`triangles_cross`: 4.09E-03s, `cache.verify`: 2.70E-05s\u001b[0m\n",
      "\u001b[36mDEBUG   \u001b[0m        caching.py:116   \u001b[34m`face_adjacency_angles`: 2.25E-02s, `cache.verify`: 7.06E-06s\u001b[0m\n",
      "\u001b[36mDEBUG   \u001b[0m        caching.py:116   \u001b[34m`area_faces`: 9.47E-04s, `cache.verify`: 9.33E-06s\u001b[0m\n",
      "\u001b[36mDEBUG   \u001b[0m        caching.py:116   \u001b[34m`area`: 5.72E-05s, `cache.verify`: 1.32E-05s\u001b[0m\n",
      "\u001b[36mDEBUG   \u001b[0m        caching.py:116   \u001b[34m`face_adjacency_unshared`: 1.02E-02s, `cache.verify`: 7.14E-06s\u001b[0m\n",
      "\u001b[36mDEBUG   \u001b[0m        caching.py:116   \u001b[34m`face_adjacency_radius`: 2.56E-02s, `cache.verify`: 4.12E-06s\u001b[0m\n",
      "\u001b[36mDEBUG   \u001b[0m        caching.py:116   \u001b[34m`facets`: 7.92E-02s, `cache.verify`: 1.83E-05s\u001b[0m\n"
     ]
    },
    {
     "name": "stdout",
     "output_type": "stream",
     "text": [
      "Deleting octomap\n",
      "Deleting octomap\n"
     ]
    },
    {
     "name": "stderr",
     "output_type": "stream",
     "text": [
      "\u001b[36mDEBUG   \u001b[0m      constants.py:137   \u001b[34msmoothed executed in 1.7964 seconds.\u001b[0m\n",
      "\u001b[36mDEBUG   \u001b[0m        caching.py:116   \u001b[34m`faces_sparse`: 1.46E-03s, `cache.verify`: 1.56E-06s\u001b[0m\n",
      "\u001b[36mDEBUG   \u001b[0m        caching.py:116   \u001b[34m`triangles`: 2.06E-03s, `cache.verify`: 1.79E-06s\u001b[0m\n",
      "\u001b[36mDEBUG   \u001b[0m        caching.py:116   \u001b[34m`face_angles`: 3.07E-02s, `cache.verify`: 3.79E-06s\u001b[0m\n",
      "\u001b[36mDEBUG   \u001b[0m        caching.py:116   \u001b[34m`vertex_normals`: 6.46E-02s, `cache.verify`: 4.86E-06s\u001b[0m\n",
      "\u001b[36mDEBUG   \u001b[0m        caching.py:116   \u001b[34m`vertex_degree`: 8.25E-04s, `cache.verify`: 1.69E-05s\u001b[0m\n"
     ]
    },
    {
     "name": "stdout",
     "output_type": "stream",
     "text": [
      "Didn't changed\n"
     ]
    },
    {
     "name": "stderr",
     "output_type": "stream",
     "text": [
      "\u001b[36mDEBUG   \u001b[0m        caching.py:116   \u001b[34m`nodes_geometry`: 3.43E-05s, `cache.verify`: 2.14E-06s\u001b[0m\n"
     ]
    },
    {
     "name": "stdout",
     "output_type": "stream",
     "text": [
      "Didn't changed\n",
      "Didn't changed\n",
      "Didn't changed\n",
      "Didn't changed\n",
      "Didn't changed\n",
      "Didn't changed\n",
      "Didn't changed\n",
      "Didn't changed\n",
      "Didn't changed\n",
      "Didn't changed\n",
      "Didn't changed\n"
     ]
    },
    {
     "name": "stderr",
     "output_type": "stream",
     "text": [
      "\u001b[36mDEBUG   \u001b[0m     kernelbase.py:566   \u001b[34m{'header': {'msg_id': '44f92128-cfcac781411ad7bd7e2e68a4_391', 'msg_type': 'execute_reply', 'username': 'valeryilin', 'session': '44f92128-cfcac781411ad7bd7e2e68a4', 'date': datetime.datetime(2020, 3, 29, 12, 9, 33, 631766, tzinfo=datetime.timezone.utc), 'version': '5.3'}, 'msg_id': '44f92128-cfcac781411ad7bd7e2e68a4_391', 'msg_type': 'execute_reply', 'parent_header': {'date': datetime.datetime(2020, 3, 29, 12, 9, 8, 671000, tzinfo=tzutc()), 'msg_id': '5d1b7b5c-9510-43e6-a133-cf970fd82245', 'msg_type': 'execute_request', 'session': 'c5eec68d-e0d8-4f92-8d14-0c8d4048b22b', 'username': '', 'version': '5.2'}, 'content': {'status': 'ok', 'execution_count': 33, 'user_expressions': {}, 'payload': []}, 'metadata': {'started': datetime.datetime(2020, 3, 29, 12, 9, 8, 685317, tzinfo=datetime.timezone.utc), 'dependencies_met': True, 'engine': '589bcfc5-0a1e-4b0e-b159-0ee2adee0e6f', 'status': 'ok'}, 'tracker': <zmq.sugar.tracker.MessageTracker object at 0x7faebad64310>}\u001b[0m\n",
      "\u001b[36mDEBUG   \u001b[0m     kernelbase.py:183   \u001b[34mControl received: {'header': {'msg_id': '0b78a37b-d1555c4ccda2b19a854ce2e2_0', 'msg_type': 'shutdown_request', 'username': 'valeryilin', 'session': '0b78a37b-d1555c4ccda2b19a854ce2e2', 'date': datetime.datetime(2020, 3, 29, 12, 9, 42, 184345, tzinfo=tzutc()), 'version': '5.3'}, 'msg_id': '0b78a37b-d1555c4ccda2b19a854ce2e2_0', 'msg_type': 'shutdown_request', 'parent_header': {}, 'metadata': {}, 'content': {'restart': True}, 'buffers': []}\u001b[0m\n"
     ]
    }
   ],
   "source": []
  },
  {
   "cell_type": "code",
   "execution_count": null,
   "metadata": {},
   "outputs": [],
   "source": []
  },
  {
   "cell_type": "code",
   "execution_count": null,
   "metadata": {},
   "outputs": [],
   "source": []
  },
  {
   "cell_type": "code",
   "execution_count": null,
   "metadata": {},
   "outputs": [],
   "source": []
  },
  {
   "cell_type": "code",
   "execution_count": null,
   "metadata": {},
   "outputs": [],
   "source": []
  },
  {
   "cell_type": "code",
   "execution_count": null,
   "metadata": {},
   "outputs": [],
   "source": []
  },
  {
   "cell_type": "code",
   "execution_count": null,
   "metadata": {},
   "outputs": [],
   "source": []
  },
  {
   "cell_type": "code",
   "execution_count": null,
   "metadata": {},
   "outputs": [],
   "source": []
  },
  {
   "cell_type": "code",
   "execution_count": null,
   "metadata": {},
   "outputs": [],
   "source": []
  },
  {
   "cell_type": "code",
   "execution_count": null,
   "metadata": {},
   "outputs": [],
   "source": []
  },
  {
   "cell_type": "code",
   "execution_count": null,
   "metadata": {},
   "outputs": [],
   "source": []
  }
 ],
 "metadata": {
  "kernelspec": {
   "display_name": "Python 3",
   "language": "python",
   "name": "python3"
  },
  "language_info": {
   "codemirror_mode": {
    "name": "ipython",
    "version": 3
   },
   "file_extension": ".py",
   "mimetype": "text/x-python",
   "name": "python",
   "nbconvert_exporter": "python",
   "pygments_lexer": "ipython3",
   "version": "3.7.5"
  }
 },
 "nbformat": 4,
 "nbformat_minor": 4
}
