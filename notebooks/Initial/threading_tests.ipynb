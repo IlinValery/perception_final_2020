{
 "cells": [
  {
   "cell_type": "markdown",
   "metadata": {},
   "source": [
    "by Valery Ilin"
   ]
  },
  {
   "cell_type": "code",
   "execution_count": 1,
   "metadata": {},
   "outputs": [],
   "source": [
    "import threading\n",
    "import time\n",
    "from IPython.display import clear_output\n"
   ]
  },
  {
   "cell_type": "code",
   "execution_count": 7,
   "metadata": {},
   "outputs": [],
   "source": [
    "class StoppableThread(threading.Thread):\n",
    "    \"\"\"Thread class with a stop() method. The thread itself has to check\n",
    "    regularly for the executed() condition.\"\"\"\n",
    "\n",
    "    def __init__(self,  *args, **kwargs):\n",
    "        super(StoppableThread, self).__init__(*args, **kwargs)\n",
    "        self._execution_status = True\n",
    "#         self._stop_event = threading.Event()\n",
    "\n",
    "    def stop(self):\n",
    "        self._execution_status = False\n",
    "\n",
    "    def is_executed(self):\n",
    "        return self._execution_status"
   ]
  },
  {
   "cell_type": "code",
   "execution_count": 8,
   "metadata": {},
   "outputs": [],
   "source": [
    "def counter(initial, interval):\n",
    "    initial_num = initial\n",
    "    while threading.currentThread().executed():\n",
    "        print(initial_num)\n",
    "        time.sleep(interval)\n",
    "        initial_num += 1\n",
    "        if (initial_num%10 == 0):\n",
    "            clear_output(wait=True)\n",
    "    print(\"Stoped by execute_status\")    \n",
    "        "
   ]
  },
  {
   "cell_type": "code",
   "execution_count": 19,
   "metadata": {},
   "outputs": [],
   "source": [
    "def tester():\n",
    "    print(threading.currentThread())"
   ]
  },
  {
   "cell_type": "code",
   "execution_count": 20,
   "metadata": {},
   "outputs": [
    {
     "name": "stdout",
     "output_type": "stream",
     "text": [
      "<StoppableThread(Thread-10, started 140018232301312)>\n"
     ]
    }
   ],
   "source": [
    "my_thread = StoppableThread(target=tester)\n",
    "my_thread.start()"
   ]
  },
  {
   "cell_type": "code",
   "execution_count": 5,
   "metadata": {},
   "outputs": [
    {
     "name": "stdout",
     "output_type": "stream",
     "text": [
      "70\n"
     ]
    }
   ],
   "source": [
    "my_thread = StoppableThread(target=counter, args=(0, 0.1))\n",
    "my_thread.start()"
   ]
  },
  {
   "cell_type": "code",
   "execution_count": 6,
   "metadata": {},
   "outputs": [
    {
     "name": "stdout",
     "output_type": "stream",
     "text": [
      "71\n",
      "Stoped by execute_status\n"
     ]
    }
   ],
   "source": [
    "my_thread.stop()"
   ]
  },
  {
   "cell_type": "code",
   "execution_count": 6,
   "metadata": {},
   "outputs": [
    {
     "name": "stdout",
     "output_type": "stream",
     "text": [
      "150   False\n",
      "151   False\n",
      "152   False\n",
      "153   False\n"
     ]
    }
   ],
   "source": [
    "my_thread.status = False"
   ]
  },
  {
   "cell_type": "code",
   "execution_count": 6,
   "metadata": {},
   "outputs": [
    {
     "name": "stdout",
     "output_type": "stream",
     "text": [
      "120   <StoppableThread(Thread-4, started 139947273086720)>\n"
     ]
    }
   ],
   "source": [
    "my_thread.stop()"
   ]
  },
  {
   "cell_type": "code",
   "execution_count": null,
   "metadata": {},
   "outputs": [
    {
     "name": "stdout",
     "output_type": "stream",
     "text": [
      "330\n",
      "331\n"
     ]
    }
   ],
   "source": [
    "execute_status = False\n",
    "my_thread.join(execute_status)"
   ]
  },
  {
   "cell_type": "code",
   "execution_count": 5,
   "metadata": {},
   "outputs": [
    {
     "name": "stdout",
     "output_type": "stream",
     "text": [
      "420   <Thread(Thread-4, started 140590225540864)>\n",
      "421   <Thread(Thread-4, started 140590225540864)>\n",
      "422   <Thread(Thread-4, started 140590225540864)>\n",
      "423   <Thread(Thread-4, started 140590225540864)>\n",
      "424   <Thread(Thread-4, started 140590225540864)>\n"
     ]
    }
   ],
   "source": [
    "my_thread.daemon = False"
   ]
  }
 ],
 "metadata": {
  "kernelspec": {
   "display_name": "Python 3",
   "language": "python",
   "name": "python3"
  },
  "language_info": {
   "codemirror_mode": {
    "name": "ipython",
    "version": 3
   },
   "file_extension": ".py",
   "mimetype": "text/x-python",
   "name": "python",
   "nbconvert_exporter": "python",
   "pygments_lexer": "ipython3",
   "version": "3.7.5"
  }
 },
 "nbformat": 4,
 "nbformat_minor": 4
}
